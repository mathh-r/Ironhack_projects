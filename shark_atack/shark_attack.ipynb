{
 "cells": [
  {
   "cell_type": "markdown",
   "id": "b583fad4-6c4d-4198-9b3e-a3a59fe76c57",
   "metadata": {},
   "source": [
    "## Importing Libraries"
   ]
  },
  {
   "cell_type": "code",
   "execution_count": 48,
   "id": "ceaf7628-3ff8-4943-87bf-7e348f8d58f1",
   "metadata": {},
   "outputs": [],
   "source": [
    "import pandas as pd\n",
    "import numpy as np"
   ]
  },
  {
   "cell_type": "markdown",
   "id": "e91e3a93-05ae-4ad9-a061-3966fc2fe27a",
   "metadata": {},
   "source": [
    "## Reading the archive"
   ]
  },
  {
   "cell_type": "code",
   "execution_count": 2,
   "id": "6f62a34a-56ff-4d12-aa17-7690f98a1f76",
   "metadata": {},
   "outputs": [],
   "source": [
    "attacks = pd.read_csv('./attacks.csv')"
   ]
  },
  {
   "cell_type": "markdown",
   "id": "982773c8-77b4-4334-8db8-52282fba8751",
   "metadata": {},
   "source": [
    "## Cleaning DataFrame"
   ]
  },
  {
   "cell_type": "code",
   "execution_count": 3,
   "id": "8d4da530-9dd6-4813-86ca-a699b61611f6",
   "metadata": {},
   "outputs": [
    {
     "data": {
      "text/plain": [
       "Index(['Case Number', 'Date', 'Year', 'Type', 'Country', 'Area', 'Location',\n",
       "       'Activity', 'Name', 'Sex ', 'Age', 'Injury', 'Fatal (Y/N)', 'Time',\n",
       "       'Species ', 'Investigator or Source', 'pdf', 'href formula', 'href',\n",
       "       'Case Number.1', 'Case Number.2', 'original order', 'Unnamed: 22',\n",
       "       'Unnamed: 23'],\n",
       "      dtype='object')"
      ]
     },
     "execution_count": 3,
     "metadata": {},
     "output_type": "execute_result"
    }
   ],
   "source": [
    "attacks.columns "
   ]
  },
  {
   "cell_type": "code",
   "execution_count": 4,
   "id": "40f35422-6eb0-485e-9cbc-57a8b2274c07",
   "metadata": {
    "tags": []
   },
   "outputs": [],
   "source": [
    "# Cleaning the spaces in the columns\n",
    "columns = ['Case Number', 'Date', 'Year', 'Type', 'Country', 'Area', 'Location',\\\n",
    "           'Activity', 'Name', 'Sex', 'Age', 'Injury', 'Fatal', 'Time',\\\n",
    "           'Species', 'Source', 'pdf', 'href formula', 'href',\\\n",
    "           'Case Number.1', 'Case Number.2', 'original order', 'Unnamed: 22',\\\n",
    "           'Unnamed: 23']\n",
    "\n",
    "columns = [col.lower().replace(' ','_') for col in columns]"
   ]
  },
  {
   "cell_type": "code",
   "execution_count": 5,
   "id": "36f22564-3734-4e7e-8728-1fc37a6b53e1",
   "metadata": {},
   "outputs": [],
   "source": [
    "# Updating the columns in the DataFrame\n",
    "attacks.columns = columns"
   ]
  },
  {
   "cell_type": "code",
   "execution_count": 6,
   "id": "31d64f8b-40c5-42c8-a4ca-3be258d4453b",
   "metadata": {},
   "outputs": [
    {
     "data": {
      "text/html": [
       "<div>\n",
       "<style scoped>\n",
       "    .dataframe tbody tr th:only-of-type {\n",
       "        vertical-align: middle;\n",
       "    }\n",
       "\n",
       "    .dataframe tbody tr th {\n",
       "        vertical-align: top;\n",
       "    }\n",
       "\n",
       "    .dataframe thead th {\n",
       "        text-align: right;\n",
       "    }\n",
       "</style>\n",
       "<table border=\"1\" class=\"dataframe\">\n",
       "  <thead>\n",
       "    <tr style=\"text-align: right;\">\n",
       "      <th></th>\n",
       "      <th>case_number</th>\n",
       "      <th>date</th>\n",
       "      <th>year</th>\n",
       "      <th>type</th>\n",
       "      <th>country</th>\n",
       "      <th>area</th>\n",
       "      <th>location</th>\n",
       "      <th>activity</th>\n",
       "      <th>name</th>\n",
       "      <th>sex</th>\n",
       "      <th>...</th>\n",
       "      <th>species</th>\n",
       "      <th>source</th>\n",
       "      <th>pdf</th>\n",
       "      <th>href_formula</th>\n",
       "      <th>href</th>\n",
       "      <th>case_number.1</th>\n",
       "      <th>case_number.2</th>\n",
       "      <th>original_order</th>\n",
       "      <th>unnamed:_22</th>\n",
       "      <th>unnamed:_23</th>\n",
       "    </tr>\n",
       "  </thead>\n",
       "  <tbody>\n",
       "    <tr>\n",
       "      <th>4415</th>\n",
       "      <td>1952.03.30</td>\n",
       "      <td>30-Mar-1952</td>\n",
       "      <td>1952.0</td>\n",
       "      <td>Unprovoked</td>\n",
       "      <td>NETHERLANDS ANTILLES</td>\n",
       "      <td>Curacao</td>\n",
       "      <td>NaN</td>\n",
       "      <td>Went to aid of child being menaced by the shark</td>\n",
       "      <td>A.J. Eggink</td>\n",
       "      <td>M</td>\n",
       "      <td>...</td>\n",
       "      <td>Bull shark, 2.7 m [9'] was captured &amp; dragged ...</td>\n",
       "      <td>J. Randall, p.352 in Sharks &amp; Survival; H.D. B...</td>\n",
       "      <td>1952.03.30-Eggink.pdf</td>\n",
       "      <td>http://sharkattackfile.net/spreadsheets/pdf_di...</td>\n",
       "      <td>http://sharkattackfile.net/spreadsheets/pdf_di...</td>\n",
       "      <td>1952.03.30</td>\n",
       "      <td>1952.03.30</td>\n",
       "      <td>1888.0</td>\n",
       "      <td>NaN</td>\n",
       "      <td>Teramo</td>\n",
       "    </tr>\n",
       "    <tr>\n",
       "      <th>5840</th>\n",
       "      <td>1878.09.14.R</td>\n",
       "      <td>Reported 14-Sep-1878</td>\n",
       "      <td>1878.0</td>\n",
       "      <td>Provoked</td>\n",
       "      <td>USA</td>\n",
       "      <td>Connecticut</td>\n",
       "      <td>Branford, New Haven County</td>\n",
       "      <td>Fishing</td>\n",
       "      <td>Captain Pattison</td>\n",
       "      <td>M</td>\n",
       "      <td>...</td>\n",
       "      <td>NaN</td>\n",
       "      <td>St. Joseph Herald, 9/14/1878</td>\n",
       "      <td>1878.09.14.R-Pattison.pdf</td>\n",
       "      <td>http://sharkattackfile.net/spreadsheets/pdf_di...</td>\n",
       "      <td>http://sharkattackfile.net/spreadsheets/pdf_di...</td>\n",
       "      <td>1878.09.14.R</td>\n",
       "      <td>1878.09.14.R</td>\n",
       "      <td>463.0</td>\n",
       "      <td>NaN</td>\n",
       "      <td>change filename</td>\n",
       "    </tr>\n",
       "  </tbody>\n",
       "</table>\n",
       "<p>2 rows × 24 columns</p>\n",
       "</div>"
      ],
      "text/plain": [
       "       case_number                  date    year        type  \\\n",
       "4415    1952.03.30           30-Mar-1952  1952.0  Unprovoked   \n",
       "5840  1878.09.14.R  Reported 14-Sep-1878  1878.0    Provoked   \n",
       "\n",
       "                   country         area                    location  \\\n",
       "4415  NETHERLANDS ANTILLES      Curacao                         NaN   \n",
       "5840                   USA  Connecticut  Branford, New Haven County   \n",
       "\n",
       "                                             activity              name sex  \\\n",
       "4415  Went to aid of child being menaced by the shark       A.J. Eggink   M   \n",
       "5840                                          Fishing  Captain Pattison   M   \n",
       "\n",
       "      ...                                            species  \\\n",
       "4415  ...  Bull shark, 2.7 m [9'] was captured & dragged ...   \n",
       "5840  ...                                                NaN   \n",
       "\n",
       "                                                 source  \\\n",
       "4415  J. Randall, p.352 in Sharks & Survival; H.D. B...   \n",
       "5840                       St. Joseph Herald, 9/14/1878   \n",
       "\n",
       "                            pdf  \\\n",
       "4415      1952.03.30-Eggink.pdf   \n",
       "5840  1878.09.14.R-Pattison.pdf   \n",
       "\n",
       "                                           href_formula  \\\n",
       "4415  http://sharkattackfile.net/spreadsheets/pdf_di...   \n",
       "5840  http://sharkattackfile.net/spreadsheets/pdf_di...   \n",
       "\n",
       "                                                   href case_number.1  \\\n",
       "4415  http://sharkattackfile.net/spreadsheets/pdf_di...    1952.03.30   \n",
       "5840  http://sharkattackfile.net/spreadsheets/pdf_di...  1878.09.14.R   \n",
       "\n",
       "     case_number.2 original_order unnamed:_22      unnamed:_23  \n",
       "4415    1952.03.30         1888.0         NaN           Teramo  \n",
       "5840  1878.09.14.R          463.0         NaN  change filename  \n",
       "\n",
       "[2 rows x 24 columns]"
      ]
     },
     "execution_count": 6,
     "metadata": {},
     "output_type": "execute_result"
    }
   ],
   "source": [
    "# Checking the rows in wich the 'unnamed:_23' columns is not null\n",
    "attacks[attacks['unnamed:_23'].isnull()==False]"
   ]
  },
  {
   "cell_type": "code",
   "execution_count": 7,
   "id": "c9a4c229-dcab-4993-946d-cfc6a89acc75",
   "metadata": {},
   "outputs": [
    {
     "data": {
      "text/html": [
       "<div>\n",
       "<style scoped>\n",
       "    .dataframe tbody tr th:only-of-type {\n",
       "        vertical-align: middle;\n",
       "    }\n",
       "\n",
       "    .dataframe tbody tr th {\n",
       "        vertical-align: top;\n",
       "    }\n",
       "\n",
       "    .dataframe thead th {\n",
       "        text-align: right;\n",
       "    }\n",
       "</style>\n",
       "<table border=\"1\" class=\"dataframe\">\n",
       "  <thead>\n",
       "    <tr style=\"text-align: right;\">\n",
       "      <th></th>\n",
       "      <th>case_number</th>\n",
       "      <th>date</th>\n",
       "      <th>year</th>\n",
       "      <th>type</th>\n",
       "      <th>country</th>\n",
       "      <th>area</th>\n",
       "      <th>location</th>\n",
       "      <th>activity</th>\n",
       "      <th>name</th>\n",
       "      <th>sex</th>\n",
       "      <th>...</th>\n",
       "      <th>species</th>\n",
       "      <th>source</th>\n",
       "      <th>pdf</th>\n",
       "      <th>href_formula</th>\n",
       "      <th>href</th>\n",
       "      <th>case_number.1</th>\n",
       "      <th>case_number.2</th>\n",
       "      <th>original_order</th>\n",
       "      <th>unnamed:_22</th>\n",
       "      <th>unnamed:_23</th>\n",
       "    </tr>\n",
       "  </thead>\n",
       "  <tbody>\n",
       "    <tr>\n",
       "      <th>1478</th>\n",
       "      <td>2006.05.27</td>\n",
       "      <td>27-May-2006</td>\n",
       "      <td>2006.0</td>\n",
       "      <td>Unprovoked</td>\n",
       "      <td>USA</td>\n",
       "      <td>Hawaii</td>\n",
       "      <td>North Shore, O'ahu</td>\n",
       "      <td>Surfing</td>\n",
       "      <td>Bret Desmond</td>\n",
       "      <td>M</td>\n",
       "      <td>...</td>\n",
       "      <td>NaN</td>\n",
       "      <td>R. Collier</td>\n",
       "      <td>2006.05.27-Desmond.pdf</td>\n",
       "      <td>http://sharkattackfile.net/spreadsheets/pdf_di...</td>\n",
       "      <td>http://sharkattackfile.net/spreadsheets/pdf_di...</td>\n",
       "      <td>2006.05.27</td>\n",
       "      <td>2006.05.27</td>\n",
       "      <td>4825.0</td>\n",
       "      <td>stopped here</td>\n",
       "      <td>NaN</td>\n",
       "    </tr>\n",
       "  </tbody>\n",
       "</table>\n",
       "<p>1 rows × 24 columns</p>\n",
       "</div>"
      ],
      "text/plain": [
       "     case_number         date    year        type country    area  \\\n",
       "1478  2006.05.27  27-May-2006  2006.0  Unprovoked     USA  Hawaii   \n",
       "\n",
       "                location activity          name sex  ... species      source  \\\n",
       "1478  North Shore, O'ahu  Surfing  Bret Desmond   M  ...     NaN  R. Collier   \n",
       "\n",
       "                         pdf  \\\n",
       "1478  2006.05.27-Desmond.pdf   \n",
       "\n",
       "                                           href_formula  \\\n",
       "1478  http://sharkattackfile.net/spreadsheets/pdf_di...   \n",
       "\n",
       "                                                   href case_number.1  \\\n",
       "1478  http://sharkattackfile.net/spreadsheets/pdf_di...    2006.05.27   \n",
       "\n",
       "     case_number.2 original_order   unnamed:_22 unnamed:_23  \n",
       "1478    2006.05.27         4825.0  stopped here         NaN  \n",
       "\n",
       "[1 rows x 24 columns]"
      ]
     },
     "execution_count": 7,
     "metadata": {},
     "output_type": "execute_result"
    }
   ],
   "source": [
    "# Checking the rows in wich the 'unnamed:_22' columns is not null\n",
    "attacks[attacks['unnamed:_22'].isnull()==False]"
   ]
  },
  {
   "cell_type": "code",
   "execution_count": 8,
   "id": "b5f23e44-f096-4119-97de-700336a241c7",
   "metadata": {},
   "outputs": [],
   "source": [
    "# Defining the columns that aren't going to be used\n",
    "drop_columns=['unnamed:_22', 'unnamed:_23', 'case_number.1', 'case_number.2', 'case_number',\\\n",
    "              'original_order', 'source', 'pdf', 'href_formula', 'href', 'original_order']"
   ]
  },
  {
   "cell_type": "code",
   "execution_count": 9,
   "id": "68a2bf5a-c4c5-4b31-8423-5bf6eb4fb668",
   "metadata": {},
   "outputs": [],
   "source": [
    "# Removing columns that aren't going to be used\n",
    "clean_attacks = attacks.drop(columns=drop_columns)"
   ]
  },
  {
   "cell_type": "code",
   "execution_count": 10,
   "id": "dc8ca6f0-f704-469a-8dc3-36883052e988",
   "metadata": {},
   "outputs": [],
   "source": [
    "# Removing duplicated columns\n",
    "duplicated_cols = clean_attacks[attacks.duplicated() == True].index\n",
    "clean_attacks.drop(index=duplicated_cols, inplace=True)"
   ]
  },
  {
   "cell_type": "code",
   "execution_count": 11,
   "id": "ee75601d-98a0-48a7-9589-36db1179b57e",
   "metadata": {},
   "outputs": [],
   "source": [
    "# Removing columns that are completely null\n",
    "clean_attacks.dropna(how='all', inplace=True)"
   ]
  },
  {
   "cell_type": "code",
   "execution_count": 12,
   "id": "cd261ba6-a88d-457f-9184-13b1069fa5e8",
   "metadata": {},
   "outputs": [],
   "source": [
    "# Reseting the index\n",
    "clean_attacks.reset_index(inplace=True, drop=True)"
   ]
  },
  {
   "cell_type": "code",
   "execution_count": 13,
   "id": "ed958150-f542-49be-b1a5-87993a9d5d52",
   "metadata": {},
   "outputs": [
    {
     "data": {
      "text/plain": [
       "Index(['date', 'year', 'type', 'country', 'area', 'location', 'activity',\n",
       "       'name', 'sex', 'age', 'injury', 'fatal', 'time', 'species'],\n",
       "      dtype='object')"
      ]
     },
     "execution_count": 13,
     "metadata": {},
     "output_type": "execute_result"
    }
   ],
   "source": [
    "clean_attacks.columns"
   ]
  },
  {
   "cell_type": "markdown",
   "id": "8949e09c-d616-4626-b287-466580bb57d6",
   "metadata": {},
   "source": [
    "## Evaluating the sex column"
   ]
  },
  {
   "cell_type": "code",
   "execution_count": 45,
   "id": "a195f0c8-1b36-4eb5-af70-c633fc28b9c4",
   "metadata": {},
   "outputs": [
    {
     "data": {
      "text/plain": [
       "array(['F', 'M', nan, 'M ', 'N', '.'], dtype=object)"
      ]
     },
     "execution_count": 45,
     "metadata": {},
     "output_type": "execute_result"
    }
   ],
   "source": [
    "clean_attacks.sex.unique()"
   ]
  },
  {
   "cell_type": "markdown",
   "id": "8e30fb1f-f0bc-41dc-a8f8-5157b6f4fad1",
   "metadata": {},
   "source": [
    "### Cleaning the odd values"
   ]
  },
  {
   "cell_type": "code",
   "execution_count": 46,
   "id": "fd094a34-1756-4db8-8616-6bc9f0031a79",
   "metadata": {},
   "outputs": [
    {
     "data": {
      "text/html": [
       "<div>\n",
       "<style scoped>\n",
       "    .dataframe tbody tr th:only-of-type {\n",
       "        vertical-align: middle;\n",
       "    }\n",
       "\n",
       "    .dataframe tbody tr th {\n",
       "        vertical-align: top;\n",
       "    }\n",
       "\n",
       "    .dataframe thead th {\n",
       "        text-align: right;\n",
       "    }\n",
       "</style>\n",
       "<table border=\"1\" class=\"dataframe\">\n",
       "  <thead>\n",
       "    <tr style=\"text-align: right;\">\n",
       "      <th></th>\n",
       "      <th>date</th>\n",
       "      <th>year</th>\n",
       "      <th>type</th>\n",
       "      <th>country</th>\n",
       "      <th>area</th>\n",
       "      <th>location</th>\n",
       "      <th>activity</th>\n",
       "      <th>name</th>\n",
       "      <th>sex</th>\n",
       "      <th>age</th>\n",
       "      <th>injury</th>\n",
       "      <th>fatal</th>\n",
       "      <th>time</th>\n",
       "      <th>species</th>\n",
       "    </tr>\n",
       "  </thead>\n",
       "  <tbody>\n",
       "    <tr>\n",
       "      <th>5437</th>\n",
       "      <td>Reported 02-Jun-1908</td>\n",
       "      <td>1908.0</td>\n",
       "      <td>Sea Disaster</td>\n",
       "      <td>PAPUA NEW GUINEA</td>\n",
       "      <td>New Britain</td>\n",
       "      <td>Matupi</td>\n",
       "      <td>.</td>\n",
       "      <td>NaN</td>\n",
       "      <td>.</td>\n",
       "      <td>NaN</td>\n",
       "      <td>Remains of 3 humans recovered from shark, but ...</td>\n",
       "      <td>Y</td>\n",
       "      <td>NaN</td>\n",
       "      <td>Allegedly a 33-foot shark</td>\n",
       "    </tr>\n",
       "  </tbody>\n",
       "</table>\n",
       "</div>"
      ],
      "text/plain": [
       "                      date    year          type           country  \\\n",
       "5437  Reported 02-Jun-1908  1908.0  Sea Disaster  PAPUA NEW GUINEA   \n",
       "\n",
       "             area location activity name sex  age  \\\n",
       "5437  New Britain   Matupi        .  NaN   .  NaN   \n",
       "\n",
       "                                                 injury fatal time  \\\n",
       "5437  Remains of 3 humans recovered from shark, but ...     Y  NaN   \n",
       "\n",
       "                        species  \n",
       "5437  Allegedly a 33-foot shark  "
      ]
     },
     "execution_count": 46,
     "metadata": {},
     "output_type": "execute_result"
    }
   ],
   "source": [
    "clean_attacks[clean_attacks.sex=='.']"
   ]
  },
  {
   "cell_type": "code",
   "execution_count": 34,
   "id": "dab1449b-037c-4482-b2c1-d4c3fc95c181",
   "metadata": {},
   "outputs": [
    {
     "data": {
      "text/html": [
       "<div>\n",
       "<style scoped>\n",
       "    .dataframe tbody tr th:only-of-type {\n",
       "        vertical-align: middle;\n",
       "    }\n",
       "\n",
       "    .dataframe tbody tr th {\n",
       "        vertical-align: top;\n",
       "    }\n",
       "\n",
       "    .dataframe thead th {\n",
       "        text-align: right;\n",
       "    }\n",
       "</style>\n",
       "<table border=\"1\" class=\"dataframe\">\n",
       "  <thead>\n",
       "    <tr style=\"text-align: right;\">\n",
       "      <th></th>\n",
       "      <th>date</th>\n",
       "      <th>year</th>\n",
       "      <th>type</th>\n",
       "      <th>country</th>\n",
       "      <th>area</th>\n",
       "      <th>location</th>\n",
       "      <th>activity</th>\n",
       "      <th>name</th>\n",
       "      <th>sex</th>\n",
       "      <th>age</th>\n",
       "      <th>injury</th>\n",
       "      <th>fatal</th>\n",
       "      <th>time</th>\n",
       "      <th>species</th>\n",
       "    </tr>\n",
       "  </thead>\n",
       "  <tbody>\n",
       "    <tr>\n",
       "      <th>1624</th>\n",
       "      <td>11-Nov-2004</td>\n",
       "      <td>2004.0</td>\n",
       "      <td>Unprovoked</td>\n",
       "      <td>USA</td>\n",
       "      <td>California</td>\n",
       "      <td>Bunkers, Humboldt Bay, Eureka, Humboldt County</td>\n",
       "      <td>Surfing</td>\n",
       "      <td>Brian Kang</td>\n",
       "      <td>lli</td>\n",
       "      <td>38</td>\n",
       "      <td>Lacerations to hand, knee &amp; thigh</td>\n",
       "      <td>N</td>\n",
       "      <td>13h30</td>\n",
       "      <td>5.5 m [18'] white shark</td>\n",
       "    </tr>\n",
       "  </tbody>\n",
       "</table>\n",
       "</div>"
      ],
      "text/plain": [
       "             date    year        type country        area  \\\n",
       "1624  11-Nov-2004  2004.0  Unprovoked     USA  California   \n",
       "\n",
       "                                            location activity        name  \\\n",
       "1624  Bunkers, Humboldt Bay, Eureka, Humboldt County  Surfing  Brian Kang   \n",
       "\n",
       "      sex age                              injury fatal   time  \\\n",
       "1624  lli  38  Lacerations to hand, knee & thigh      N  13h30   \n",
       "\n",
       "                      species  \n",
       "1624  5.5 m [18'] white shark  "
      ]
     },
     "execution_count": 34,
     "metadata": {},
     "output_type": "execute_result"
    }
   ],
   "source": [
    "clean_attacks[clean_attacks.sex=='lli']"
   ]
  },
  {
   "cell_type": "code",
   "execution_count": 42,
   "id": "335a9efb-1ab0-481e-8cce-857e64313622",
   "metadata": {},
   "outputs": [
    {
     "data": {
      "text/html": [
       "<div>\n",
       "<style scoped>\n",
       "    .dataframe tbody tr th:only-of-type {\n",
       "        vertical-align: middle;\n",
       "    }\n",
       "\n",
       "    .dataframe tbody tr th {\n",
       "        vertical-align: top;\n",
       "    }\n",
       "\n",
       "    .dataframe thead th {\n",
       "        text-align: right;\n",
       "    }\n",
       "</style>\n",
       "<table border=\"1\" class=\"dataframe\">\n",
       "  <thead>\n",
       "    <tr style=\"text-align: right;\">\n",
       "      <th></th>\n",
       "      <th>date</th>\n",
       "      <th>year</th>\n",
       "      <th>type</th>\n",
       "      <th>country</th>\n",
       "      <th>area</th>\n",
       "      <th>location</th>\n",
       "      <th>activity</th>\n",
       "      <th>name</th>\n",
       "      <th>sex</th>\n",
       "      <th>age</th>\n",
       "      <th>injury</th>\n",
       "      <th>fatal</th>\n",
       "      <th>time</th>\n",
       "      <th>species</th>\n",
       "    </tr>\n",
       "  </thead>\n",
       "  <tbody>\n",
       "    <tr>\n",
       "      <th>4938</th>\n",
       "      <td>11-Jul-1934</td>\n",
       "      <td>1934.0</td>\n",
       "      <td>Boating</td>\n",
       "      <td>AUSTRALIA</td>\n",
       "      <td>New South Wales</td>\n",
       "      <td>Cronulla</td>\n",
       "      <td>Fishing</td>\n",
       "      <td>18' boat, occupants William &amp; Leslie Newton</td>\n",
       "      <td>N</td>\n",
       "      <td>NaN</td>\n",
       "      <td>No injury to occupants Sharks continually foll...</td>\n",
       "      <td>N</td>\n",
       "      <td>NaN</td>\n",
       "      <td>Blue pointer, 11'</td>\n",
       "    </tr>\n",
       "    <tr>\n",
       "      <th>6131</th>\n",
       "      <td>Reported 18-Dec-1801</td>\n",
       "      <td>1801.0</td>\n",
       "      <td>Provoked</td>\n",
       "      <td>NaN</td>\n",
       "      <td>NaN</td>\n",
       "      <td>NaN</td>\n",
       "      <td>Standing on landed shark's tail</td>\n",
       "      <td>Stephen Pettigew</td>\n",
       "      <td>N</td>\n",
       "      <td>NaN</td>\n",
       "      <td>FATAL, PROVOKED INCIDENT</td>\n",
       "      <td>Y</td>\n",
       "      <td>NaN</td>\n",
       "      <td>12' shark</td>\n",
       "    </tr>\n",
       "  </tbody>\n",
       "</table>\n",
       "</div>"
      ],
      "text/plain": [
       "                      date    year      type    country             area  \\\n",
       "4938           11-Jul-1934  1934.0   Boating  AUSTRALIA  New South Wales   \n",
       "6131  Reported 18-Dec-1801  1801.0  Provoked        NaN              NaN   \n",
       "\n",
       "      location                         activity  \\\n",
       "4938  Cronulla                          Fishing   \n",
       "6131       NaN  Standing on landed shark's tail   \n",
       "\n",
       "                                             name sex  age  \\\n",
       "4938  18' boat, occupants William & Leslie Newton   N  NaN   \n",
       "6131                             Stephen Pettigew   N  NaN   \n",
       "\n",
       "                                                 injury fatal time  \\\n",
       "4938  No injury to occupants Sharks continually foll...     N  NaN   \n",
       "6131                           FATAL, PROVOKED INCIDENT     Y  NaN   \n",
       "\n",
       "                 species  \n",
       "4938  Blue pointer, 11'   \n",
       "6131           12' shark  "
      ]
     },
     "execution_count": 42,
     "metadata": {},
     "output_type": "execute_result"
    }
   ],
   "source": [
    "clean_attacks[clean_attacks.sex=='N']"
   ]
  },
  {
   "cell_type": "code",
   "execution_count": 50,
   "id": "1d8b5a2b-1050-4650-9f48-8e1081812e51",
   "metadata": {},
   "outputs": [],
   "source": [
    "# Cleaning the wrong 'sex'\n",
    "clean_attacks.iloc[1624, 8] = 'M'\n",
    "clean_attacks.iloc[6131, 8] = 'M'\n",
    "clean_attacks.iloc[4938, 8] = np.nan\n",
    "clean_attacks.iloc[5437, 8] = np.nan"
   ]
  },
  {
   "cell_type": "code",
   "execution_count": 51,
   "id": "c5703dba-2e2a-4092-b99a-32f53ceacaba",
   "metadata": {},
   "outputs": [
    {
     "data": {
      "text/plain": [
       "M    0.888928\n",
       "F    0.111072\n",
       "Name: sex, dtype: float64"
      ]
     },
     "execution_count": 51,
     "metadata": {},
     "output_type": "execute_result"
    }
   ],
   "source": [
    "# Checking if there's any relation with gender\n",
    "clean_attacks.sex.str.strip().value_counts(normalize=True)"
   ]
  },
  {
   "cell_type": "markdown",
   "id": "bbeadb2c-b2a7-4e48-83fa-9233e211d7f8",
   "metadata": {},
   "source": [
    "## Starting the analysis based on country"
   ]
  },
  {
   "cell_type": "code",
   "execution_count": 14,
   "id": "3ff63752-dc2a-4262-9846-d9e51bf45717",
   "metadata": {},
   "outputs": [
    {
     "data": {
      "text/plain": [
       "USA                 0.356526\n",
       "AUSTRALIA           0.214012\n",
       "SOUTH AFRICA        0.092610\n",
       "PAPUA NEW GUINEA    0.021433\n",
       "NEW ZEALAND         0.020473\n",
       "Name: country, dtype: float64"
      ]
     },
     "execution_count": 14,
     "metadata": {},
     "output_type": "execute_result"
    }
   ],
   "source": [
    "# Choosing a country to analyse based on the amount of attacks\n",
    "clean_attacks.country.value_counts(normalize=True).head()"
   ]
  },
  {
   "cell_type": "code",
   "execution_count": 16,
   "id": "6723fb6b-c6c0-434e-a1e8-f179d76a505b",
   "metadata": {},
   "outputs": [],
   "source": [
    "# Starting the analisys on USA\n",
    "attacks_usa = clean_attacks[clean_attacks.country=='USA']"
   ]
  },
  {
   "cell_type": "code",
   "execution_count": 17,
   "id": "b011bf27-b5ee-4dd7-9f07-7dd8ef4b8329",
   "metadata": {},
   "outputs": [
    {
     "data": {
      "text/plain": [
       "Unprovoked      0.772095\n",
       "Provoked        0.093315\n",
       "Invalid         0.086586\n",
       "Boating         0.023329\n",
       "Sea Disaster    0.014356\n",
       "Boat            0.010319\n",
       "Name: type, dtype: float64"
      ]
     },
     "execution_count": 17,
     "metadata": {},
     "output_type": "execute_result"
    }
   ],
   "source": [
    "# Understanding how the attacks occour\n",
    "attacks_usa.type.value_counts(normalize=True)"
   ]
  },
  {
   "cell_type": "code",
   "execution_count": 20,
   "id": "551f3a62-1573-4dcc-ad32-64518a77a7b5",
   "metadata": {},
   "outputs": [
    {
     "data": {
      "text/plain": [
       "Florida                   0.466067\n",
       "Hawaii                    0.133933\n",
       "California                0.130337\n",
       "South Carolina            0.071461\n",
       "North Carolina            0.045393\n",
       "Texas                     0.032809\n",
       "New Jersey                0.023371\n",
       "New York                  0.013483\n",
       "Oregon                    0.013034\n",
       "Virginia                  0.008539\n",
       "Puerto Rico               0.007191\n",
       "Massachusetts             0.007191\n",
       "Alabama                   0.006742\n",
       "Georgia                   0.006292\n",
       "Louisiana                 0.004944\n",
       "Maryland                  0.003146\n",
       "Delaware                  0.003146\n",
       "Rhode Island              0.003146\n",
       "Connecticut               0.002697\n",
       "US Virgin Islands         0.002247\n",
       "Mississippi               0.002247\n",
       "New York                  0.001348\n",
       "North Carolina            0.000899\n",
       "Washington                0.000899\n",
       "East coast                0.000899\n",
       "Palmyra Atoll             0.000899\n",
       "South Carolina            0.000449\n",
       "Florida                   0.000449\n",
       "New Mexico                0.000449\n",
       "North & South Carolina    0.000449\n",
       "Alaska                    0.000449\n",
       " North Carolina           0.000449\n",
       "Kentucky                  0.000449\n",
       "CUBA                      0.000449\n",
       "Wake Island               0.000449\n",
       "Maine                     0.000449\n",
       "Johnston Atoll            0.000449\n",
       "Illinois                  0.000449\n",
       "Guam                      0.000449\n",
       "Missouri                  0.000449\n",
       " New Jersey               0.000449\n",
       "Midway Atoll              0.000449\n",
       "Pennsylvania              0.000449\n",
       "Name: area, dtype: float64"
      ]
     },
     "execution_count": 20,
     "metadata": {},
     "output_type": "execute_result"
    }
   ],
   "source": [
    "# Choosing the most targeted area\n",
    "attacks_usa.area.value_counts(normalize=True)"
   ]
  },
  {
   "cell_type": "code",
   "execution_count": 21,
   "id": "caf8c3a8-5f72-421a-a02d-a3b3608d7fe5",
   "metadata": {},
   "outputs": [
    {
     "name": "stderr",
     "output_type": "stream",
     "text": [
      "<ipython-input-21-0e4d1a0855e1>:2: SettingWithCopyWarning: \n",
      "A value is trying to be set on a copy of a slice from a DataFrame.\n",
      "Try using .loc[row_indexer,col_indexer] = value instead\n",
      "\n",
      "See the caveats in the documentation: https://pandas.pydata.org/pandas-docs/stable/user_guide/indexing.html#returning-a-view-versus-a-copy\n",
      "  attacks_usa['area'] = attacks_usa['area'].str.strip()\n"
     ]
    }
   ],
   "source": [
    "# Cleaning the area field\n",
    "attacks_usa['area'] = attacks_usa['area'].str.strip()"
   ]
  },
  {
   "cell_type": "code",
   "execution_count": 22,
   "id": "73392c10-738c-4a73-8c5f-c5c034e55f02",
   "metadata": {},
   "outputs": [
    {
     "data": {
      "text/plain": [
       "Florida           0.466517\n",
       "Hawaii            0.133933\n",
       "California        0.130337\n",
       "South Carolina    0.071910\n",
       "North Carolina    0.046742\n",
       "Name: area, dtype: float64"
      ]
     },
     "execution_count": 22,
     "metadata": {},
     "output_type": "execute_result"
    }
   ],
   "source": [
    "# Choosing the most affected area\n",
    "attacks_usa.area.value_counts(normalize=True).head()"
   ]
  },
  {
   "cell_type": "code",
   "execution_count": 23,
   "id": "8c42897b-f368-42ee-884e-1626a8b53f23",
   "metadata": {},
   "outputs": [],
   "source": [
    "# Narrowing down\n",
    "attacks_florida = attacks_usa[attacks_usa.area=='Florida']"
   ]
  },
  {
   "cell_type": "code",
   "execution_count": 90,
   "id": "654ec476-ee78-4bd3-b92a-6bf4f62069e3",
   "metadata": {},
   "outputs": [
    {
     "data": {
      "text/plain": [
       "Unprovoked      0.835260\n",
       "Provoked        0.083815\n",
       "Invalid         0.064547\n",
       "Boat            0.006744\n",
       "Sea Disaster    0.005780\n",
       "Boating         0.003854\n",
       "Name: type, dtype: float64"
      ]
     },
     "execution_count": 90,
     "metadata": {},
     "output_type": "execute_result"
    }
   ],
   "source": [
    "attacks_florida.type.value_counts(normalize=True)"
   ]
  },
  {
   "cell_type": "code",
   "execution_count": 25,
   "id": "cf4ecd43-3234-41f3-b762-d8233cd123b3",
   "metadata": {},
   "outputs": [
    {
     "data": {
      "text/plain": [
       "Surfing                                                        0.378462\n",
       "Swimming                                                       0.145641\n",
       "Wading                                                         0.068718\n",
       "Fishing                                                        0.035897\n",
       "Standing                                                       0.034872\n",
       "                                                                 ...   \n",
       "Adrift after the sinking of the motor yacht Princess Dianne    0.001026\n",
       "Fishing for snapper                                            0.001026\n",
       "Floating in inner tube                                         0.001026\n",
       "Crawling                                                       0.001026\n",
       "Underwater photography                                         0.001026\n",
       "Name: activity, Length: 197, dtype: float64"
      ]
     },
     "execution_count": 25,
     "metadata": {},
     "output_type": "execute_result"
    }
   ],
   "source": [
    "attacks_florida.activity.str.strip().value_counts(normalize=True)"
   ]
  },
  {
   "cell_type": "code",
   "execution_count": 98,
   "id": "78016517-052d-46b7-b36f-4e48c1f55f05",
   "metadata": {},
   "outputs": [
    {
     "data": {
      "text/plain": [
       "4' to 5' shark                                   13\n",
       "5' shark                                         10\n",
       "4' shark                                         10\n",
       "3' shark                                          9\n",
       "6' shark                                          8\n",
       "                                                 ..\n",
       "9.5' shark?                                       1\n",
       "Spinner shark                                     1\n",
       "1.2 m [4'] bull shark                             1\n",
       "Spinner shark, 1.2 m to 1.5 m [4' to 5']          1\n",
       "6' shark, possibly a blactip or spinner shark     1\n",
       "Name: species, Length: 89, dtype: int64"
      ]
     },
     "execution_count": 98,
     "metadata": {},
     "output_type": "execute_result"
    }
   ],
   "source": [
    "# Checking if there's a common species \n",
    "attacks_florida[attacks_florida.activity=='Surfing'].species.value_counts()"
   ]
  },
  {
   "cell_type": "code",
   "execution_count": 27,
   "id": "dcb2b663-112a-4c29-8757-7a4b4bb55826",
   "metadata": {},
   "outputs": [
    {
     "data": {
      "text/plain": [
       "Unprovoked    352\n",
       "Invalid         8\n",
       "Provoked        7\n",
       "Name: type, dtype: int64"
      ]
     },
     "execution_count": 27,
     "metadata": {},
     "output_type": "execute_result"
    }
   ],
   "source": [
    "attacks_florida[attacks_florida.activity=='Surfing'].type.value_counts()"
   ]
  }
 ],
 "metadata": {
  "kernelspec": {
   "display_name": "Python 3",
   "language": "python",
   "name": "python3"
  },
  "language_info": {
   "codemirror_mode": {
    "name": "ipython",
    "version": 3
   },
   "file_extension": ".py",
   "mimetype": "text/x-python",
   "name": "python",
   "nbconvert_exporter": "python",
   "pygments_lexer": "ipython3",
   "version": "3.8.8"
  }
 },
 "nbformat": 4,
 "nbformat_minor": 5
}
